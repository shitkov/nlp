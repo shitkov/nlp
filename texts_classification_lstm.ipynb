{
 "cells": [
  {
   "cell_type": "code",
   "execution_count": 1,
   "metadata": {},
   "outputs": [],
   "source": [
    "# pip install -r requirements.txt --trusted-host pypi.org --trusted-host files.pythonhosted.org"
   ]
  },
  {
   "cell_type": "code",
   "execution_count": 2,
   "metadata": {
    "id": "c46xchGszzKx"
   },
   "outputs": [],
   "source": [
    "import re\n",
    "import sys\n",
    "import random\n",
    "import numpy as np\n",
    "import pandas as pd\n",
    "from tqdm import tqdm\n",
    "from sklearn.metrics import f1_score\n",
    "from tokenizers import ByteLevelBPETokenizer\n",
    "from tokenizers.pre_tokenizers import Whitespace\n",
    "import torch\n",
    "import torch.nn as nn\n",
    "import torch.optim as optim\n",
    "from torch.utils.data import Dataset, DataLoader\n",
    "\n",
    "sys.path.insert(0, '../model')\n",
    "sys.path.insert(0, '../modules')\n",
    "from h2i_01_lstm import H2I01LSTM\n",
    "from custom_dataset import CustomDataset"
   ]
  },
  {
   "cell_type": "code",
   "execution_count": 3,
   "metadata": {
    "id": "7uRg-Hw_0AnA"
   },
   "outputs": [],
   "source": [
    "data_train = pd.read_csv('./data/h2i_01_asset_type_train.csv')\n",
    "data_valid = pd.read_csv('./data/h2i_01_asset_type_valid.csv')\n",
    "data_test = pd.read_csv('./data/h2i_01_asset_type_test.csv')"
   ]
  },
  {
   "cell_type": "code",
   "execution_count": 4,
   "metadata": {
    "id": "nI7gYjj9GzkF"
   },
   "outputs": [],
   "source": [
    "tokenizer = ByteLevelBPETokenizer()\n",
    "tokenizer.pre_tokenizer = Whitespace()\n",
    "\n",
    "tokenizer.enable_padding(pad_id=0, pad_token='<pad>')"
   ]
  },
  {
   "cell_type": "code",
   "execution_count": 5,
   "metadata": {
    "id": "nNok-OoyHGJ0"
   },
   "outputs": [],
   "source": [
    "texts = [text.lower() for text in list(data_train['text'])]"
   ]
  },
  {
   "cell_type": "code",
   "execution_count": 6,
   "metadata": {
    "id": "cyvdv0B0HRPe"
   },
   "outputs": [],
   "source": [
    "with open('texts.txt', 'w') as f:\n",
    "    for text in texts:\n",
    "        f.write(\"%s\\n\" % text)"
   ]
  },
  {
   "cell_type": "code",
   "execution_count": 7,
   "metadata": {
    "id": "EIbPPIm0G3vX"
   },
   "outputs": [],
   "source": [
    "tokenizer.train(\n",
    "    files=['texts.txt'],\n",
    "    vocab_size=3_000,\n",
    "    min_frequency=2,\n",
    "    special_tokens=['<pad>', '<unk>']\n",
    "    )"
   ]
  },
  {
   "cell_type": "code",
   "execution_count": 8,
   "metadata": {
    "id": "kavnGbD3It0u"
   },
   "outputs": [],
   "source": [
    "tokenizer.save('tokenizer.json')"
   ]
  },
  {
   "cell_type": "code",
   "execution_count": 9,
   "metadata": {
    "id": "3pefFn_yHEE3"
   },
   "outputs": [],
   "source": [
    "tokens_list = [tokenizer.encode(text).ids for text in texts]"
   ]
  },
  {
   "cell_type": "code",
   "execution_count": 10,
   "metadata": {
    "id": "i7b-XPBfHyK9"
   },
   "outputs": [],
   "source": [
    "data_train['tokens'] = tokens_list "
   ]
  },
  {
   "cell_type": "code",
   "execution_count": 11,
   "metadata": {
    "id": "NCF_SCwnH2AJ"
   },
   "outputs": [],
   "source": [
    "len_list = [len(tokens) for tokens in list(data_train['tokens'])]"
   ]
  },
  {
   "cell_type": "code",
   "execution_count": 12,
   "metadata": {
    "id": "XtCnauIZH4rF"
   },
   "outputs": [
    {
     "data": {
      "image/png": "[encoded data removed]",
      "text/plain": [
       "<Figure size 432x288 with 1 Axes>"
      ]
     },
     "metadata": {
      "needs_background": "light"
     },
     "output_type": "display_data"
    }
   ],
   "source": [
    "import matplotlib.pyplot as plt\n",
    "import numpy as np\n",
    "%matplotlib inline\n",
    "\n",
    "plt.hist(len_list, density=True, bins=50)\n",
    "plt.ylabel('part')\n",
    "plt.xlabel('tokens in sentence');"
   ]
  },
  {
   "cell_type": "code",
   "execution_count": 13,
   "metadata": {
    "id": "8qydCYr0H9Ou"
   },
   "outputs": [],
   "source": [
    "max_len = 16"
   ]
  },
  {
   "cell_type": "code",
   "execution_count": 14,
   "metadata": {},
   "outputs": [],
   "source": [
    "import torch\n",
    "import torch.nn as nn\n",
    "import torch.optim as optim\n",
    "from torch.utils.data import Dataset, DataLoader\n",
    "\n",
    "class CustomDataset(Dataset):\n",
    "\n",
    "    def __init__(self, tokens, labels, max_len):\n",
    "        self.tokens = tokens\n",
    "        self.labels = labels\n",
    "        self.max_len = max_len\n",
    "\n",
    "\n",
    "    def __len__(self):\n",
    "        return len(self.tokens)\n",
    "\n",
    "\n",
    "    def __getitem__(self, idx):\n",
    "        label = self.labels[idx]\n",
    "        label = torch.tensor(label)\n",
    "        tokens = self.tokens[idx]\n",
    "        out = torch.zeros(self.max_len, dtype=torch.long)\n",
    "        out[:len(tokens)] = torch.tensor(tokens, dtype=torch.long)[:self.max_len]\n",
    "        return out, label"
   ]
  },
  {
   "cell_type": "code",
   "execution_count": 15,
   "metadata": {},
   "outputs": [],
   "source": [
    "import torch\n",
    "import torch.nn as nn\n",
    "\n",
    "\n",
    "class NeuralNetwork(nn.Module):\n",
    "\n",
    "\n",
    "    def __init__(self, hidden_dim=128, vocab_size=3000, embedding_dim=300, linear_dim=128, dropout=0.3, n_classes=2):\n",
    "        super().__init__()\n",
    "        self.embedding_layer = nn.Embedding(vocab_size, embedding_dim)\n",
    "        self.lstm_layer = nn.LSTM(embedding_dim, hidden_dim, batch_first=True, bidirectional=True)\n",
    "        self.lstm_layer2 = nn.LSTM(hidden_dim*2, hidden_dim, batch_first=True, bidirectional=True)\n",
    "        self.lstm_layer3 = nn.LSTM(hidden_dim*2, hidden_dim, batch_first=True, bidirectional=True)\n",
    "        self.dropout_layer = nn.Dropout(dropout)        \n",
    "        self.fc_layer = nn.Linear(hidden_dim * 2, linear_dim)\n",
    "        self.fc_layer2 = nn.Linear(linear_dim, linear_dim)\n",
    "        self.batchnorm = nn.BatchNorm1d(linear_dim)\n",
    "        self.relu = nn.ReLU()\n",
    "        self.out_layer = nn.Linear(linear_dim, n_classes)\n",
    "        self.softmax = nn.Softmax(dim=1)\n",
    "\n",
    "\n",
    "    def forward(self, inputs):\n",
    "        batch_size = inputs.size(0)\n",
    "        embeddings = self.embedding_layer(inputs)\n",
    "        lstm_out, (ht, ct) = self.lstm_layer(embeddings)\n",
    "#         lstm_out, (ht, ct) = self.lstm_layer2(lstm_out, (ht, ct))\n",
    "#         lstm_out, (ht, ct) = self.lstm_layer3(lstm_out, (ht, ct))\n",
    "        out = ht.transpose(0, 1)\n",
    "        out = out.reshape(batch_size, -1)\n",
    "        out = self.fc_layer(out)\n",
    "        out = self.batchnorm(out)\n",
    "        out = self.relu(out)\n",
    "#         out = self.fc_layer2(out)\n",
    "#         out = self.batchnorm(out)\n",
    "#         out = self.relu(out)\n",
    "        out = self.dropout_layer(out)\n",
    "        out = self.out_layer(out)\n",
    "        out = torch.squeeze(out, 1)\n",
    "        out = torch.sigmoid(out)\n",
    "#         out = self.softmax(out)\n",
    "        return out"
   ]
  },
  {
   "cell_type": "code",
   "execution_count": 16,
   "metadata": {
    "id": "FNvsf_w2JWIL"
   },
   "outputs": [],
   "source": [
    "labels = list(data_train['label'])\n",
    "train_dataset = CustomDataset(tokens_list, labels, max_len)\n",
    "train_loader = DataLoader(train_dataset, batch_size=10, shuffle=False)"
   ]
  },
  {
   "cell_type": "code",
   "execution_count": 17,
   "metadata": {
    "id": "aYI5E5rnAcW6"
   },
   "outputs": [],
   "source": [
    "valid_texts = [text.lower() for text in list(data_valid['text'])]\n",
    "valid_ids = [tokenizer.encode(text).ids for text in valid_texts]\n",
    "valid_labels = list(data_valid['label'])\n",
    "valid_dataset = CustomDataset(valid_ids, valid_labels, max_len)\n",
    "valid_loader = DataLoader(valid_dataset, batch_size=10, shuffle=False)"
   ]
  },
  {
   "cell_type": "code",
   "execution_count": 18,
   "metadata": {
    "id": "u3lWmCf1RPeF"
   },
   "outputs": [],
   "source": [
    "test_texts = [text.lower() for text in list(data_test['text'])]\n",
    "test_ids = [tokenizer.encode(text).ids for text in test_texts]\n",
    "test_labels = list(data_test['label'])\n",
    "test_dataset = CustomDataset(test_ids, test_labels, max_len)\n",
    "test_loader = DataLoader(test_dataset, batch_size=10, shuffle=False)"
   ]
  },
  {
   "cell_type": "code",
   "execution_count": 19,
   "metadata": {
    "id": "Q2mrO5n5Q7za"
   },
   "outputs": [],
   "source": [
    "device = torch.device(\"cuda:0\" if torch.cuda.is_available() else \"cpu\")"
   ]
  },
  {
   "cell_type": "code",
   "execution_count": 20,
   "metadata": {
    "id": "G62Tzj1X2uv_"
   },
   "outputs": [],
   "source": [
    "def init_weights(m):\n",
    "    if isinstance(m, nn.Linear):\n",
    "        torch.nn.init.xavier_uniform_(m.weight)\n",
    "        m.bias.data.fill_(0.01)"
   ]
  },
  {
   "cell_type": "code",
   "execution_count": 21,
   "metadata": {
    "id": "tSnUEBqNWcZx"
   },
   "outputs": [],
   "source": [
    "def eval_nn(model, data_loader):\n",
    "    predicted = []\n",
    "    labels = []\n",
    "    model.eval()\n",
    "    with torch.no_grad():\n",
    "        for data in data_loader:\n",
    "            x, y = data\n",
    "            x = x.to(device)\n",
    "            outputs = model(x)\n",
    "            _, predict = torch.max(outputs.data, 1)\n",
    "            predict = predict.cpu().detach().numpy().tolist()\n",
    "            predicted += predict\n",
    "            labels += y\n",
    "        score = f1_score(labels, predicted, average='binary')\n",
    "    return labels, predicted, score"
   ]
  },
  {
   "cell_type": "code",
   "execution_count": 22,
   "metadata": {
    "id": "mLXNXNl2QWkN"
   },
   "outputs": [],
   "source": [
    "def train_nn(model, optimizer, loss_function, train_loader, valid_loader, test_loader, device, epochs=10):\n",
    "    best_score = 0\n",
    "    for epoch in range(epochs):\n",
    "        model.train()\n",
    "        for inputs, labels in tqdm(train_loader):\n",
    "            inputs, labels = inputs.to(device), labels.to(device)\n",
    "            optimizer.zero_grad()\n",
    "            predict = model(inputs)\n",
    "            loss = loss_function(predict, labels)\n",
    "            loss.backward()\n",
    "            optimizer.step()\n",
    "        _, _, score_valid = eval_nn(model, valid_loader)\n",
    "        _, _, score_test = eval_nn(model, test_loader)\n",
    "        print(epoch, round(score_valid, 3), round(score_test, 3))\n",
    "        if score_valid > best_score:\n",
    "#             torch.save(model,'h2i_01_asset_type_' + str(round(score_valid, 4)) + '.pt')\n",
    "#             torch.save(model.state_dict(),'h2i_01_asset_type_dict_' + str(round(score_valid, 4)) + '.pt')\n",
    "            best_score = score_valid\n",
    "    return best_score"
   ]
  },
  {
   "cell_type": "code",
   "execution_count": 23,
   "metadata": {
    "id": "-wG6L-D5QQy6",
    "scrolled": false
   },
   "outputs": [
    {
     "name": "stderr",
     "output_type": "stream",
     "text": [
      "100%|██████████| 271/271 [00:11<00:00, 24.41it/s]\n",
      "  1%|          | 3/271 [00:00<00:10, 25.87it/s]"
     ]
    },
    {
     "name": "stdout",
     "output_type": "stream",
     "text": [
      "0 0.913 0.913\n"
     ]
    },
    {
     "name": "stderr",
     "output_type": "stream",
     "text": [
      "100%|██████████| 271/271 [00:11<00:00, 24.35it/s]\n",
      "  1%|          | 3/271 [00:00<00:10, 25.92it/s]"
     ]
    },
    {
     "name": "stdout",
     "output_type": "stream",
     "text": [
      "1 0.914 0.91\n"
     ]
    },
    {
     "name": "stderr",
     "output_type": "stream",
     "text": [
      "100%|██████████| 271/271 [00:11<00:00, 24.13it/s]\n",
      "  1%|          | 3/271 [00:00<00:10, 26.35it/s]"
     ]
    },
    {
     "name": "stdout",
     "output_type": "stream",
     "text": [
      "2 0.913 0.92\n"
     ]
    },
    {
     "name": "stderr",
     "output_type": "stream",
     "text": [
      "100%|██████████| 271/271 [00:11<00:00, 24.47it/s]\n",
      "  1%|          | 3/271 [00:00<00:10, 25.93it/s]"
     ]
    },
    {
     "name": "stdout",
     "output_type": "stream",
     "text": [
      "3 0.919 0.902\n"
     ]
    },
    {
     "name": "stderr",
     "output_type": "stream",
     "text": [
      "100%|██████████| 271/271 [00:11<00:00, 24.10it/s]\n",
      "  1%|          | 3/271 [00:00<00:10, 25.70it/s]"
     ]
    },
    {
     "name": "stdout",
     "output_type": "stream",
     "text": [
      "4 0.935 0.92\n"
     ]
    },
    {
     "name": "stderr",
     "output_type": "stream",
     "text": [
      "100%|██████████| 271/271 [00:11<00:00, 24.35it/s]\n",
      "  1%|          | 3/271 [00:00<00:10, 25.82it/s]"
     ]
    },
    {
     "name": "stdout",
     "output_type": "stream",
     "text": [
      "5 0.925 0.909\n"
     ]
    },
    {
     "name": "stderr",
     "output_type": "stream",
     "text": [
      "100%|██████████| 271/271 [00:11<00:00, 24.46it/s]\n",
      "  1%|          | 3/271 [00:00<00:10, 25.34it/s]"
     ]
    },
    {
     "name": "stdout",
     "output_type": "stream",
     "text": [
      "6 0.933 0.929\n"
     ]
    },
    {
     "name": "stderr",
     "output_type": "stream",
     "text": [
      "100%|██████████| 271/271 [00:11<00:00, 24.50it/s]\n",
      "  1%|          | 3/271 [00:00<00:10, 25.36it/s]"
     ]
    },
    {
     "name": "stdout",
     "output_type": "stream",
     "text": [
      "7 0.919 0.925\n"
     ]
    },
    {
     "name": "stderr",
     "output_type": "stream",
     "text": [
      "100%|██████████| 271/271 [00:11<00:00, 24.45it/s]\n",
      "  1%|          | 3/271 [00:00<00:10, 25.59it/s]"
     ]
    },
    {
     "name": "stdout",
     "output_type": "stream",
     "text": [
      "8 0.93 0.922\n"
     ]
    },
    {
     "name": "stderr",
     "output_type": "stream",
     "text": [
      "100%|██████████| 271/271 [00:11<00:00, 24.30it/s]\n"
     ]
    },
    {
     "name": "stdout",
     "output_type": "stream",
     "text": [
      "9 0.933 0.905\n"
     ]
    },
    {
     "data": {
      "text/plain": [
       "0.9352941176470588"
      ]
     },
     "execution_count": 23,
     "metadata": {},
     "output_type": "execute_result"
    }
   ],
   "source": [
    "best_score = 0\n",
    "loss_function = nn.CrossEntropyLoss().to(device)\n",
    "\n",
    "model = NeuralNetwork(hidden_dim=256, vocab_size=3000, embedding_dim=300, linear_dim=256, dropout=0.1)\n",
    "model.apply(init_weights)\n",
    "model.to(device)\n",
    "optimizer = optim.AdamW(model.parameters())\n",
    "train_nn(model, optimizer, loss_function, train_loader, valid_loader, test_loader, device)        "
   ]
  }
 ],
 "metadata": {
  "accelerator": "GPU",
  "colab": {
   "authorship_tag": "ABX9TyP+KcUv4IyZQhT5InbLhHan",
   "collapsed_sections": [],
   "name": "h2i_01_light_models_rnn_fit.ipynb",
   "provenance": []
  },
  "kernelspec": {
   "display_name": "Python 3",
   "language": "python",
   "name": "python3"
  },
  "language_info": {
   "codemirror_mode": {
    "name": "ipython",
    "version": 3
   },
   "file_extension": ".py",
   "mimetype": "text/x-python",
   "name": "python",
   "nbconvert_exporter": "python",
   "pygments_lexer": "ipython3",
   "version": "3.8.5"
  }
 },
 "nbformat": 4,
 "nbformat_minor": 1
}
